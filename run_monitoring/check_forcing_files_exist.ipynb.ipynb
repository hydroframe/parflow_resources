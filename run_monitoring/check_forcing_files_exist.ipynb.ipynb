{
 "cells": [
  {
   "cell_type": "code",
   "execution_count": null,
   "id": "e5574d71-a1b0-443f-8056-b0e662adc84d",
   "metadata": {},
   "outputs": [],
   "source": [
    "import os\n",
    "import numpy as np\n",
    "import pandas as pd\n",
    "import seaborn as sns\n",
    "import matplotlib.pyplot as plt"
   ]
  },
  {
   "cell_type": "code",
   "execution_count": null,
   "id": "744b7041",
   "metadata": {},
   "outputs": [],
   "source": [
    "forcing_dir = 'path/to/forcing/inputs/for/run'\n",
    "var_list = ['APCP', 'DLWR', 'DSWR', 'Temp', 'SPFH', 'UGRD', 'VGRD', 'Press']\n",
    "dt = 24"
   ]
  },
  {
   "cell_type": "code",
   "execution_count": null,
   "id": "0cb61865-e1c6-4805-9072-b0189224598b",
   "metadata": {},
   "outputs": [],
   "source": [
    "# scan and check ParFlow-CLM forcing files\n",
    "# make a list of the variables\n",
    "# check the time range which is in 24 hour increments\n",
    "\n",
    "#step through the files and check the time range over a year and for each variable in the list above\n",
    "#put the existence / non existence of the file in a pandas dataframe\n",
    "#put the time range in a pandas dataframe\n",
    "# Create a date range for each day of the year\n",
    "date_range = pd.date_range(start='2002-10-01', end='2003-9-30', freq='D')\n",
    "\n",
    "# Initialize an empty dataframe with the date range as the index\n",
    "df_forcing = pd.DataFrame(index=date_range)\n",
    "\n",
    "# Add columns for each variable with NaN values\n",
    "for var in var_list:\n",
    "    df_forcing[var] = np.nan\n",
    "\n",
    "for var in var_list:\n",
    "    for i in range(1, 8760, dt):\n",
    "        file_name = 'CW3E.'+var+\".\"+f\"{i:06d}\"+'_to_'+f\"{(i+dt-1):06d}\"+'.pfb'\n",
    "        file_path = f'{forcing_dir}/{file_name}'\n",
    "\n",
    "        #convert the hour range to a pandas datetime object\n",
    "        start = pd.to_datetime('2002-9-30') + pd.DateOffset(hours=i)\n",
    "        end = pd.to_datetime('2002-9-30') + pd.DateOffset(hours=i+dt-1)\n",
    "\n",
    "        # if the file exists and has non-zero size, set the flag to 1 for that time range\n",
    "        if (os.path.exists(file_path)) and (os.path.getsize(file_path) > 0):\n",
    "            df_forcing.loc[start:end, var] = 1\n",
    "        else:\n",
    "            df_forcing.loc[start:end, var] = 0\n",
    "\n",
    "df_forcing.index = df_forcing.index.strftime('%Y-%m-%d')"
   ]
  },
  {
   "cell_type": "code",
   "execution_count": null,
   "id": "4eb9f0b6",
   "metadata": {},
   "outputs": [],
   "source": [
    "# make a seaborn plot of the time range for each variable\n",
    "# by days of the year\n",
    "sns.set(style=\"whitegrid\")\n",
    "plt.figure(figsize=(10,6))\n",
    "sns.heatmap(df_forcing.T, cmap='coolwarm', cbar=False)\n",
    "\n",
    "plt.title('ParFlow-CLM Forcing Files')\n",
    "plt.show()"
   ]
  },
  {
   "cell_type": "code",
   "execution_count": null,
   "id": "d8b5480c-10ad-4f5f-a1c0-a50ec7dadaed",
   "metadata": {},
   "outputs": [],
   "source": [
    "# scan and check ParFlow-CLM forcing files to see if they are distributed \n",
    "# make a list of the variables\n",
    "# check the time range which is in 24 hour increments\n",
    "\n",
    "#step through the files and check the time range over a year and for each variable in the list above\n",
    "#put the existence / non existence of the file in a pandas dataframe\n",
    "#put the time range in a pandas dataframe\n",
    "# Create a date range for each day of the year\n",
    "date_range = pd.date_range(start='2002-10-01', end='2003-9-30', freq='D')\n",
    "\n",
    "# Initialize an empty dataframe with the date range as the index\n",
    "df_forcing_dist = pd.DataFrame(index=date_range)\n",
    "\n",
    "# Add columns for each variable with NaN values\n",
    "for var in var_list:\n",
    "    df_forcing_dist[var] = np.nan\n",
    "\n",
    "for var in var_list:\n",
    "    for i in range(1, 8760, dt):\n",
    "        file_name = 'CW3E.'+var+\".\"+f\"{i:06d}\"+'_to_'+f\"{(i+dt-1):06d}\"+'.pfb.dist'\n",
    "        file_path = f'{forcing_dir}/{file_name}'\n",
    "\n",
    "        #convert the hour range to a pandas datetime object\n",
    "        start = pd.to_datetime('2002-9-30') + pd.DateOffset(hours=i)\n",
    "        end = pd.to_datetime('2002-9-30') + pd.DateOffset(hours=i+dt-1)\n",
    "        if os.path.exists(file_path):\n",
    "            \n",
    "            # if the file exists, set the time range to 1\n",
    "            df_forcing_dist.loc[start:end, var] = 1\n",
    "        else:\n",
    "            df_forcing_dist.loc[start:end, var] = 0\n",
    "\n",
    "df_forcing_dist.index = df_forcing_dist.index.strftime('%Y-%m-%d')"
   ]
  },
  {
   "cell_type": "code",
   "execution_count": null,
   "id": "79d78f02",
   "metadata": {},
   "outputs": [],
   "source": [
    "# make a seaborn plot of the time range for each variable\n",
    "# by days of the year\n",
    "sns.set(style=\"whitegrid\")\n",
    "plt.figure(figsize=(10,6))\n",
    "sns.heatmap(df_forcing_dist.T, cmap='coolwarm', cbar=False)\n",
    "\n",
    "plt.title('ParFlow-CLM Forcing Files distributed')\n",
    "plt.show()"
   ]
  },
  {
   "cell_type": "code",
   "execution_count": null,
   "id": "11ab0b47-3b88-496a-9948-7ce218fb6840",
   "metadata": {},
   "outputs": [],
   "source": []
  }
 ],
 "metadata": {
  "kernelspec": {
   "display_name": "Python 3 (ipykernel)",
   "language": "python",
   "name": "python3"
  },
  "language_info": {
   "codemirror_mode": {
    "name": "ipython",
    "version": 3
   },
   "file_extension": ".py",
   "mimetype": "text/x-python",
   "name": "python",
   "nbconvert_exporter": "python",
   "pygments_lexer": "ipython3",
   "version": "3.12.4"
  }
 },
 "nbformat": 4,
 "nbformat_minor": 5
}

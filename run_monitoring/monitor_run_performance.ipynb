{
 "cells": [
  {
   "cell_type": "code",
   "execution_count": null,
   "id": "511ae95d",
   "metadata": {},
   "outputs": [],
   "source": [
    "from datetime import date, timedelta, datetime\n",
    "import os\n",
    "import glob\n",
    "import time\n",
    "import pandas as pd\n",
    "import matplotlib.pyplot as plt"
   ]
  },
  {
   "cell_type": "code",
   "execution_count": null,
   "id": "d0813a8e",
   "metadata": {},
   "outputs": [],
   "source": [
    "pf_output_dir = 'path/to/parflow/run/outputs/'\n",
    "runname = '<parflow_runname>'\n",
    "\n",
    "water_year = 2003"
   ]
  },
  {
   "cell_type": "code",
   "execution_count": null,
   "id": "97b2c0f3",
   "metadata": {},
   "outputs": [],
   "source": [
    "def date_from_water_year_day(water_year, day_of_water_year):\n",
    "    \"\"\"Calculates the date from the water year and day of water year.\n",
    "\n",
    "    Args:\n",
    "        water_year: The water year (e.g., 2024 for the year starting Oct 1, 2023)\n",
    "        day_of_water_year: The day of the water year (1-366)\n",
    "\n",
    "    Returns:\n",
    "        The corresponding date object.\n",
    "    \"\"\"\n",
    "\n",
    "    start_of_water_year = date(water_year - 1, 10, 1)\n",
    "    return start_of_water_year + timedelta(days=day_of_water_year - 1)\n",
    "\n",
    "# Example usage:\n",
    "water_year = 2003\n",
    "pf_time_step = 2764\n",
    "\n",
    "day_of_water_year = int(pf_time_step/24)\n",
    "result_date = date_from_water_year_day(water_year, day_of_water_year)\n",
    "print(result_date)"
   ]
  },
  {
   "cell_type": "markdown",
   "id": "a583c34c",
   "metadata": {},
   "source": [
    "### Find the current run status and the last file and date of run"
   ]
  },
  {
   "cell_type": "code",
   "execution_count": null,
   "id": "25056210-f6d5-4947-8fc1-b95d6751db54",
   "metadata": {},
   "outputs": [],
   "source": [
    "# read value from last daily restart\n",
    "path_to_tcl = f'{pf_output_dir}/clm_restart.tcl'\n",
    "lines = open(path_to_tcl, \"r\").readlines()[0]\n",
    "istep = [int(i) for i in lines.split() if i.isdigit()][0]\n",
    "\n",
    "# calculate day of water year\n",
    "day_of_water_year = int(istep/24)\n",
    "result_date = date_from_water_year_day(water_year, day_of_water_year)\n",
    "print('last restart ',istep,' date: ', result_date)\n",
    "\n",
    "# calculate latest files that were written\n",
    "LatestFile = max(glob.iglob(f\"{pf_output_dir}/{runname}.out.*\"),key=os.path.getctime)\n",
    "print(\"Most Recent File Written:\", LatestFile)\n",
    "modification_time = os.path.getmtime(LatestFile)\n",
    "readable_modification_time = time.ctime(modification_time)\n",
    "print(\"Last modified:\", readable_modification_time)\n",
    "\n",
    "LatestFile = max(glob.iglob(f\"{pf_output_dir}/{runname}.out*log\"),key=os.path.getctime)\n",
    "print(\"Most Recent Log File Written:\", LatestFile)\n",
    "modification_time = os.path.getmtime(LatestFile)\n",
    "readable_modification_time = time.ctime(modification_time)\n",
    "print(\"Last modified:\", readable_modification_time)\n",
    "\n",
    "LatestFile = max(glob.iglob(f\"{pf_output_dir}/{runname}.out*pfb\"),key=os.path.getctime)\n",
    "print(\"Most Recent Output File Written:\", LatestFile)\n",
    "modification_time = os.path.getmtime(LatestFile)\n",
    "readable_modification_time = time.ctime(modification_time)\n",
    "print(\"Last modified:\", readable_modification_time)"
   ]
  },
  {
   "cell_type": "markdown",
   "id": "92ea1423",
   "metadata": {},
   "source": [
    "### Create summary information from kinsol log for later plotting"
   ]
  },
  {
   "cell_type": "code",
   "execution_count": null,
   "id": "902c001e-086e-485e-8627-cbaf13dc156d",
   "metadata": {},
   "outputs": [],
   "source": [
    "#set the path to your kinsol log\n",
    "kinsol_file = f\"{pf_output_dir}/{runname}.out.kinsol.log\"\n",
    "\n",
    "#create empty pandas dataframe with the info you want to save\n",
    "df = pd.DataFrame(columns = ['Timestep', 'Convergence','Nonlin. Its.', 'Lin. Its.','Func. Evals.','PC Evals.','PC Solves','Lin. Conv. Fails','Beta Cond. Fails','Backtracks'])\n",
    "\n",
    "#open the kinsol and read line by line                 \n",
    "with open (kinsol_file, 'rt') as myfile: \n",
    "    for myline in myfile: \n",
    "        if 'KINSOL starting step for time' in myline:\n",
    "            #create empty dictionary to save information for current timestep\n",
    "            curr_dict = {}\n",
    "            line_curr = str.split(myline)  \n",
    "            curr_dict['Timestep'] = float(line_curr[-1])\n",
    "        elif 'KINSol return value 1' in myline:\n",
    "            curr_dict['Convergence']='yes'\n",
    "        elif 'KINSol return value' in myline:\n",
    "            curr_dict['Convergence']='no'\n",
    "        elif 'Nonlin. Its.:' in myline:\n",
    "            line_curr = str.split(myline) \n",
    "            curr_dict['Nonlin. Its.'] = line_curr[-2]\n",
    "        elif 'Lin. Its.:' in myline:\n",
    "            line_curr = str.split(myline) \n",
    "            curr_dict['Lin. Its.'] = line_curr[-2]\n",
    "        elif 'Func. Evals.' in myline:\n",
    "            line_curr = str.split(myline) \n",
    "            curr_dict['Func. Evals.'] = line_curr[-2]\n",
    "        elif 'PC Evals.' in myline:\n",
    "            line_curr = str.split(myline) \n",
    "            curr_dict['PC Evals.'] = line_curr[-2]\n",
    "        elif 'PC Solves' in myline:\n",
    "            line_curr = str.split(myline) \n",
    "            curr_dict['PC Solves'] = line_curr[-2]\n",
    "        elif 'Lin. Conv. Fails' in myline:\n",
    "            line_curr = str.split(myline) \n",
    "            curr_dict['Lin. Conv. Fails'] = line_curr[-2]\n",
    "        elif 'Beta Cond. Fails' in myline:\n",
    "            line_curr = str.split(myline) \n",
    "            curr_dict['Beta Cond. Fails'] = line_curr[-2]\n",
    "        elif 'Backtracks' in myline:\n",
    "            line_curr = str.split(myline) \n",
    "            curr_dict['Backtracks'] = line_curr[-2]\n",
    "            #the Backtracks is the last entry for each timestep, save the current timestep in the dataframe\n",
    "            curr_dict['Backtracks'] = line_curr[-2]\n",
    "            df.loc[len(df),:] = curr_dict\n",
    "\n",
    "# save the dataframe to a csv file\n",
    "df.to_csv('kinsol_summary.csv', index=False)"
   ]
  },
  {
   "cell_type": "markdown",
   "id": "9b88a06b",
   "metadata": {},
   "source": [
    "### Plot the number of nonlinear iterations per timestep"
   ]
  },
  {
   "cell_type": "code",
   "execution_count": null,
   "id": "7baeea62-a697-472e-802f-00e865a60fd0",
   "metadata": {},
   "outputs": [],
   "source": [
    "data = pd.read_csv(\"/kinsol_summary.csv\")\n",
    "print(data.head())\n",
    "\n",
    "#make a plot of the number of nonlinear iterations per timestep\n",
    "plt.plot(data['Nonlin. Its.'])\n",
    "plt.xlabel('Timestep')\n",
    "plt.ylabel('Nonlinear iterations')\n",
    "# make y axis readable\n",
    "plt.ylim=(0,500)\n",
    "plt.title('Number of nonlinear iterations per timestep')\n",
    "plt.savefig('Nonlin_its.png')\n",
    "plt.show()\n",
    "\n",
    "#summary statistics of the performance of the solver\n",
    "print(data.describe())"
   ]
  },
  {
   "cell_type": "markdown",
   "id": "dbd37b63",
   "metadata": {},
   "source": [
    "### Plot nonlinear iterations, linear iterations, and function evaluations over time"
   ]
  },
  {
   "cell_type": "code",
   "execution_count": null,
   "id": "74d2c6b4-af4f-4b9a-ba81-8038966a1776",
   "metadata": {},
   "outputs": [],
   "source": [
    "# nonlinear iterations\n",
    "plt.plot(data['Timestep'],data['Nonlin. Its.'])\n",
    "plt.xlabel('Simulation Time [h]')\n",
    "plt.ylabel('Nonlinear iterations')\n",
    "plt.title('Number of nonlinear iterations over time')\n",
    "plt.show()\n",
    "\n",
    "# linear iterations\n",
    "plt.plot(data['Timestep'],data['Lin. Its.'])\n",
    "plt.xlabel('Simulation Time [h]')\n",
    "plt.ylabel('Linear iterations')\n",
    "plt.title('Number of linear iterations over time')\n",
    "plt.show()\n",
    "\n",
    "# function evaluations\n",
    "plt.plot(data['Timestep'],data['Func. Evals.'])\n",
    "plt.xlabel('Simulation Time [h]')\n",
    "plt.ylabel('Function evaluations')\n",
    "plt.title('Number of function evaluations over time')\n",
    "plt.show()"
   ]
  },
  {
   "cell_type": "markdown",
   "id": "0e011858",
   "metadata": {},
   "source": [
    "### Check on timesteps that have the largest number of iterations to convergence"
   ]
  },
  {
   "cell_type": "code",
   "execution_count": null,
   "id": "64a13796-9aea-4905-b256-7d34fc53ed76",
   "metadata": {},
   "outputs": [],
   "source": [
    "# tell me what timestep the solver failed\n",
    "nonconv = data[data['Convergence']=='no']\n",
    "\n",
    "#list the timesteps where the function evaluations are greater than 75th percentile\n",
    "large_function = data[data['Func. Evals.']>600]\n",
    "\n",
    "#list the timesteps where the linear iterations are greater than 75th percentile\n",
    "large_lin = data[data['Lin. Its.']>data['Lin. Its.'].quantile(0.75)]\n",
    "\n",
    "# plot the function evaluations as a function of linear iterations\n",
    "plt.scatter(data['Func. Evals.'],data['Lin. Its.'],c='blue')\n",
    "# plot the function evaluations as a function of nonlinear iterations\n",
    "plt.scatter(data['Func. Evals.'],data['Nonlin. Its.'],c='red')\n",
    "plt.xlabel('Function evaluations')\n",
    "plt.ylabel('Iterations (Linear=Blue, NL=Red)')\n",
    "plt.title('Performance for all timesteps')\n",
    "plt.show()\n",
    "\n",
    "# now repeat the above for the large_lin dataframe and color the points differently to see if there is a pattern\n",
    "plt.scatter(large_lin['Func. Evals.'],large_lin['Lin. Its.'],c='blue')\n",
    "plt.scatter(large_lin['Func. Evals.'],large_lin['Nonlin. Its.'],c='red')\n",
    "plt.xlabel('Function evaluations')\n",
    "plt.ylabel('Iterations (Linear=Blue, NL=Red)')\n",
    "plt.title('Performance for timesteps with large number of linear iterations')\n",
    "plt.show()\n",
    "\n",
    "# plot a histogram of the number of linear iterations\n",
    "plt.hist(data['Lin. Its.'], bins=150)\n",
    "plt.xlabel('Linear iterations')\n",
    "plt.ylabel('Frequency')\n",
    "plt.title('Histogram of linear iterations')\n",
    "plt.show()\n",
    "\n",
    "# plot a histogram of the number of function evaluations\n",
    "plt.hist(data['Func. Evals.'], bins=150)\n",
    "plt.xlabel('Function evaluations')\n",
    "plt.ylabel('Frequency')\n",
    "plt.title('Histogram of function evaluations')\n",
    "plt.show()\n",
    "\n",
    "# list the timesteps where the function evaluations are greater than 75th percentile\n",
    "Super_large_function = data[data['Func. Evals.']>200]\n",
    "print(Super_large_function)\n",
    "\n",
    "# count the number of times the solver failed\n",
    "print(data['Convergence'].value_counts())"
   ]
  },
  {
   "cell_type": "markdown",
   "id": "7e64bcc4",
   "metadata": {},
   "source": [
    "### Plot nonliner iterations and linear iterations as a function of the number of function evaluations"
   ]
  },
  {
   "cell_type": "code",
   "execution_count": null,
   "id": "86658021-516c-4d3f-b841-dacdfa8ade8d",
   "metadata": {},
   "outputs": [],
   "source": [
    "# plot the number of nonlinear iterations as a function of the number of function evaluations\n",
    "plt.scatter(data['Func. Evals.'],data['Nonlin. Its.'])\n",
    "plt.xlabel('Function evaluations')\n",
    "plt.ylabel('Nonlinear iterations')\n",
    "plt.show()"
   ]
  },
  {
   "cell_type": "code",
   "execution_count": null,
   "id": "8eb5c6a2",
   "metadata": {},
   "outputs": [],
   "source": [
    "# plot the number of linear iterations as a function of the number of function evaluations\n",
    "plt.scatter(data['Func. Evals.'],data['Lin. Its.'])\n",
    "plt.xlabel('Function evaluations')\n",
    "plt.ylabel('Linear iterations')\n",
    "plt.show()"
   ]
  },
  {
   "cell_type": "markdown",
   "id": "77dcc9a0",
   "metadata": {},
   "source": [
    "### Calculate the time between file writes. Plot comparison of solver iterations to run time."
   ]
  },
  {
   "cell_type": "code",
   "execution_count": null,
   "id": "ada40f9b-dc71-469e-bdfc-3990d07902f5",
   "metadata": {},
   "outputs": [],
   "source": [
    "## make a table with the time between file writes for each step\n",
    "## use this to compare solver iterations to run time\n",
    "def get_write_intervals(file_list):\n",
    "    \"\"\"Calculates time intervals between file writes for a list of files.\"\"\"\n",
    "\n",
    "    intervals = []\n",
    "    time_diffs = []\n",
    "    for file_path in file_list:\n",
    "        try:\n",
    "            # Get the last modification time of the file\n",
    "            mtime = os.path.getmtime(file_path)\n",
    "\n",
    "            # Convert the timestamp to a readable format\n",
    "            readable_time = time.ctime(mtime)\n",
    "\n",
    "            # Append the file path and its modification time to the intervals list\n",
    "            intervals.append((file_path, readable_time, mtime))\n",
    "\n",
    "        except FileNotFoundError:\n",
    "            print(f\"File not found: {file_path}\")\n",
    "\n",
    "    # Calculate the time difference between consecutive file writes\n",
    "    for i in range(1, len(intervals)):\n",
    "        time_diff = intervals[i][2] - intervals[i-1][2]\n",
    "        time_diffs.append(time_diff)\n",
    "    return time_diffs"
   ]
  },
  {
   "cell_type": "code",
   "execution_count": null,
   "id": "d5a97502",
   "metadata": {},
   "outputs": [],
   "source": [
    "# start from log file above\n",
    "start = int(data['Timestep'].iloc[0])\n",
    "end = int(data['Timestep'].iloc[-1])\n",
    "\n",
    "file_list = []\n",
    "timestep_list = list(range(start, end))\n",
    "\n",
    "for ii in range(start, end):\n",
    "    file_list.extend([f'{pf_output_dir}/{runname}.out.press.'+ f'{ii:05d}'+'.pfb'])\n",
    "\n",
    "times = get_write_intervals(file_list)\n",
    "print(len(timestep_list))\n",
    "print(len(times))\n",
    "\n",
    "run_speed = pd.DataFrame({'Timestep':timestep_list[1:],'Time':times})"
   ]
  },
  {
   "cell_type": "code",
   "execution_count": null,
   "id": "ccc297b8-e91c-4f77-b857-32c51e97b61e",
   "metadata": {},
   "outputs": [],
   "source": [
    "# summary statistics of the run speeds\n",
    "print(run_speed.describe())\n",
    "\n",
    "# plot performance over time\n",
    "plt.plot(run_speed['Timestep'],run_speed['Time'],c='red')\n",
    "plt.xlabel('Simulation Time [h]')\n",
    "plt.ylabel('Solution Time for each step [s]')\n",
    "plt.title('Simulation Performance with timestep')\n",
    "plt.show()\n",
    "\n",
    "# plot performance metrics over time\n",
    "plt.plot(data['Timestep'],data['Nonlin. Its.'])\n",
    "plt.xlabel('Simulation Time [h]')\n",
    "plt.ylabel('Nonlinear iterations')\n",
    "plt.title('Number of nonlinear iterations over time')\n",
    "plt.show()\n",
    "\n",
    "# combined plot\n",
    "plt.plot(run_speed['Timestep'],run_speed['Time'],c='red')\n",
    "plt.plot(data['Timestep'],data['Nonlin. Its.'],c='blue')\n",
    "plt.plot(data['Timestep'],data['Lin. Its.'],c='green')\n",
    "plt.xlabel('Simulation Time [h]')\n",
    "plt.ylabel('Nonlinear iterations and time for each timestep [s]')\n",
    "plt.title('CONUS2.1 performance over time')\n",
    "plt.show()\n"
   ]
  },
  {
   "cell_type": "markdown",
   "id": "30826642",
   "metadata": {},
   "source": [
    "### Estimate the amount of runtime required to finish the run"
   ]
  },
  {
   "cell_type": "code",
   "execution_count": null,
   "id": "30657987-5a6b-4386-9283-1b416f0fc844",
   "metadata": {},
   "outputs": [],
   "source": [
    "stop = 5787  ## should read this from pfidb file\n",
    "\n",
    "average_speed = run_speed['Time'].mean()\n",
    "last_timestep = run_speed['Timestep'].iloc[-1]\n",
    "last_timestep = int(data['Timestep'].iloc[-1])\n",
    "print('average speed per timestep [s]:',f'{average_speed:3.1f}')\n",
    "print('last timestep written:',last_timestep)\n",
    "\n",
    "est_time = (stop-last_timestep)*average_speed \n",
    "print(\"time left in run [h]: \",f'{est_time/3600:4.2f}')"
   ]
  },
  {
   "cell_type": "markdown",
   "id": "75080a9b",
   "metadata": {},
   "source": [
    "### Estimate when the run will finish"
   ]
  },
  {
   "cell_type": "code",
   "execution_count": null,
   "id": "08e92ea7-22d5-4626-abe4-5219fdd4f168",
   "metadata": {},
   "outputs": [],
   "source": [
    "# Get current time\n",
    "now = datetime.now()\n",
    "\n",
    "# Add the estimated remaining time\n",
    "time_to_add = timedelta(hours=est_time/3600)\n",
    "new_time = now + time_to_add\n",
    "\n",
    "print(\"It's currently:\", now)\n",
    "print(\"Run estimated to finish at:\", new_time)"
   ]
  }
 ],
 "metadata": {
  "kernelspec": {
   "display_name": "Python 3 (ipykernel)",
   "language": "python",
   "name": "python3"
  },
  "language_info": {
   "codemirror_mode": {
    "name": "ipython",
    "version": 3
   },
   "file_extension": ".py",
   "mimetype": "text/x-python",
   "name": "python",
   "nbconvert_exporter": "python",
   "pygments_lexer": "ipython3",
   "version": "3.12.4"
  }
 },
 "nbformat": 4,
 "nbformat_minor": 5
}

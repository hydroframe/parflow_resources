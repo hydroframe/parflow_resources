{
 "cells": [
  {
   "cell_type": "code",
   "execution_count": null,
   "id": "c36e55a7-4d80-4695-b0aa-dbf86e2fc174",
   "metadata": {},
   "outputs": [],
   "source": [
    "import numpy as np\n",
    "import pandas as pd\n",
    "from parflow.tools.io import read_pfb, write_pfb\n",
    "import matplotlib.pyplot as plt\n",
    "from matplotlib import colors"
   ]
  },
  {
   "cell_type": "code",
   "execution_count": null,
   "id": "663a9823-53b1-48c0-988f-349486bc0855",
   "metadata": {},
   "outputs": [],
   "source": [
    "pf_output_dir = 'path/to/parflow/run/outputs/'\n",
    "pf_input_dir = 'path/to/parflow/run/inputs/'\n",
    "forcing_dir = 'path/to/forcing/files/'\n",
    "runname = '<parflow_runname>'"
   ]
  },
  {
   "cell_type": "markdown",
   "id": "c2818f45",
   "metadata": {},
   "source": [
    "### Check a file for negative pressures below a given threshold"
   ]
  },
  {
   "cell_type": "code",
   "execution_count": null,
   "id": "cef9f626",
   "metadata": {},
   "outputs": [],
   "source": [
    "\n",
    "file = f'{pf_output_dir}/{runname}.out.press.04699.pfb'\n",
    "print(file)\n",
    "\n",
    "press = read_pfb(file)\n",
    "press[press < -1.0e+38] = np.nan\n",
    "print(np.shape(press))\n",
    "print(np.nanmax(press))\n",
    "print(np.nanmin(press))\n",
    "\n",
    "nthreshold = -50.\n",
    "indices_press_neg = np.argwhere(press[:,:,:] < nthreshold)\n",
    "\n",
    "print(indices_press_neg)\n",
    "print(len(indices_press_neg))"
   ]
  },
  {
   "cell_type": "markdown",
   "id": "0273d6d6",
   "metadata": {},
   "source": [
    "### Check a file for positive pressures above a given threshold"
   ]
  },
  {
   "cell_type": "code",
   "execution_count": null,
   "id": "d54a7051-9784-4d7f-a3f4-b594f15f118e",
   "metadata": {},
   "outputs": [],
   "source": [
    "layer = 9\n",
    "\n",
    "print(np.nanmax(press[layer,:,:]))\n",
    "print(np.nanmin(press[layer,:,:]))\n",
    "threshold = 50\n",
    "\n",
    "indices_press = np.argwhere(press[layer,:,:] > threshold)\n",
    "\n",
    "print(indices_press)\n",
    "print(len(indices_press))"
   ]
  },
  {
   "cell_type": "markdown",
   "id": "43a5fd2c",
   "metadata": {},
   "source": [
    "### Plot outside-threshold positive and negative pressures on a map of the pressure field"
   ]
  },
  {
   "cell_type": "code",
   "execution_count": null,
   "id": "bacf532b",
   "metadata": {},
   "outputs": [],
   "source": [
    "plt.figure()\n",
    "plt.imshow(press[layer,:,:], origin='lower', cmap='plasma',norm=colors.LogNorm(vmin = 0.00001, vmax = 50))\n",
    "cbar = plt.colorbar(orientation='horizontal',shrink=0.15)\n",
    "plt.scatter(indices_press[:,1],indices_press[:,0],facecolors='none', edgecolors='blue', s=3,marker='o',alpha=0.5,linewidths=0.5)\n",
    "plt.scatter(indices_press_neg[:,2],indices_press_neg[:,1],facecolors='none', edgecolors='red', s=3,marker='o',alpha=0.5,linewidths=0.5)\n",
    "plt.savefig('surf_press.png', dpi=2200,bbox_inches='tight')"
   ]
  },
  {
   "cell_type": "markdown",
   "id": "111edbf4",
   "metadata": {},
   "source": [
    "### Check the min and max of a saturation file"
   ]
  },
  {
   "cell_type": "code",
   "execution_count": null,
   "id": "4a77712f-2506-45cc-9c45-9a56840ae574",
   "metadata": {},
   "outputs": [],
   "source": [
    "sat_file = f'{pf_output_dir}/{runname}.out.satur.01315.pfb'\n",
    "\n",
    "print(sat_file)\n",
    "sat = read_pfb(sat_file)\n",
    "sat[sat < -1.0e+38] = np.nan\n",
    "print(np.shape(sat))\n",
    "print(np.nanmax(sat))\n",
    "print(np.nanmin(sat))"
   ]
  },
  {
   "cell_type": "markdown",
   "id": "282b38b2",
   "metadata": {},
   "source": [
    "### Plot below-threshold negative pressure locations overlaid on saturation map"
   ]
  },
  {
   "cell_type": "code",
   "execution_count": null,
   "id": "89b34f7a-5ef2-4be2-a218-31ff463b75f2",
   "metadata": {},
   "outputs": [],
   "source": [
    "plt.figure()\n",
    "plt.imshow(sat[9,:,:], origin='lower', cmap='plasma')\n",
    "plt.axis('off')\n",
    "cbar = plt.colorbar(orientation='horizontal',shrink=0.15) \n",
    "plt.scatter(indices_press_neg[:,2],indices_press_neg[:,1],facecolors='none', edgecolors='red', s=3,marker='o',alpha=0.5,linewidths=0.5)\n",
    "\n",
    "plt.savefig('surf_sat.png', dpi=1000,bbox_inches='tight')"
   ]
  },
  {
   "cell_type": "markdown",
   "id": "7dc9fd7b",
   "metadata": {},
   "source": [
    "### Check the min and max values of the mask file and plot"
   ]
  },
  {
   "cell_type": "code",
   "execution_count": null,
   "id": "d94a198d-94e4-476b-b55b-1739cc240217",
   "metadata": {},
   "outputs": [],
   "source": [
    "mask_file = f'{pf_output_dir}/{runname}.out.mask.pfb'\n",
    "\n",
    "print(mask_file)\n",
    "mask = read_pfb(mask_file)\n",
    "print(np.shape(mask))\n",
    "print(np.nanmax(mask))\n",
    "print(np.nanmin(mask))\n",
    "\n",
    "plt.figure()\n",
    "plt.imshow(mask[0,:,:], origin='lower', cmap='plasma')\n",
    "plt.axis('off')\n",
    "plt.savefig('mask.png', dpi=500,bbox_inches='tight')"
   ]
  },
  {
   "cell_type": "markdown",
   "id": "d56946e9",
   "metadata": {},
   "source": [
    "### Check the min and max values of the top patch file and plot"
   ]
  },
  {
   "cell_type": "code",
   "execution_count": null,
   "id": "c8156aed-d67d-4522-9e0d-7e97df5388fb",
   "metadata": {},
   "outputs": [],
   "source": [
    "top_patch_file = f'{pf_output_dir}/{runname}.out.top_patch.pfb'\n",
    "\n",
    "print(top_patch_file)\n",
    "top = read_pfb(top_patch_file)\n",
    "top[top <= 0] = np.nan\n",
    "print(np.shape(top))\n",
    "print(np.nanmax(top))\n",
    "print(np.nanmin(top))\n",
    "\n",
    "plt.figure()\n",
    "plt.imshow(top[0,:,:], origin='lower', cmap='viridis')\n",
    "plt.axis('off')\n",
    "cbar = plt.colorbar(orientation='horizontal',shrink=0.15) \n",
    "plt.savefig('top.png', dpi=1500,bbox_inches='tight')"
   ]
  },
  {
   "cell_type": "markdown",
   "id": "74bbb7ce",
   "metadata": {},
   "source": [
    "### Get the indices from the top patch file of sinks and lakes"
   ]
  },
  {
   "cell_type": "code",
   "execution_count": null,
   "id": "e2d1d01e-8f07-4bcb-858c-dd42525d3ff4",
   "metadata": {},
   "outputs": [],
   "source": [
    "threshold = 3\n",
    "indices_sink = np.argwhere(top[0,:,:] > threshold)\n",
    "\n",
    "print(indices_sink)\n",
    "print(len(indices_sink))\n",
    "\n",
    "threshold = 3\n",
    "indices_lake = np.argwhere(top[0,:,:] == threshold)\n",
    "\n",
    "print(indices_lake)\n",
    "print(len(indices_lake))"
   ]
  },
  {
   "cell_type": "markdown",
   "id": "b9bbed4f",
   "metadata": {},
   "source": [
    "### Check sink locations against locations with above-threshold positive pressure"
   ]
  },
  {
   "cell_type": "code",
   "execution_count": null,
   "id": "790d6ee4",
   "metadata": {},
   "outputs": [],
   "source": [
    "def find_matching_pairs(list1, list2):\n",
    "    \"\"\"Finds matching pairs of indices between two lists of paired indices.\n",
    "\n",
    "    Args:\n",
    "        list1 (list): A list of paired indices (e.g., [(1, 2), (3, 4)]).\n",
    "        list2 (list): Another list of paired indices.\n",
    "\n",
    "    Returns:\n",
    "        list: A list of the matching pairs.\n",
    "    \"\"\"\n",
    "\n",
    "    matching_pairs = []\n",
    "    for pair1 in list1:\n",
    "        if pair1 in list2:\n",
    "            matching_pairs.append(pair1)\n",
    "\n",
    "    return matching_pairs"
   ]
  },
  {
   "cell_type": "code",
   "execution_count": null,
   "id": "ddf749b9",
   "metadata": {},
   "outputs": [],
   "source": [
    "matching_indices = find_matching_pairs(indices_press, indices_sink)\n",
    "print(matching_indices)\n",
    "print(len(matching_indices))"
   ]
  },
  {
   "cell_type": "markdown",
   "id": "319746ac",
   "metadata": {},
   "source": [
    "### Check the min and max values of a CLM output file"
   ]
  },
  {
   "cell_type": "code",
   "execution_count": null,
   "id": "c1837b10-a732-4549-ad20-8f6923c24997",
   "metadata": {},
   "outputs": [],
   "source": [
    "clm_file = f'{pf_output_dir}/{runname}.out.clm_output.04030.C.pfb'\n",
    "\n",
    "print(clm_file)\n",
    "CLM = read_pfb(clm_file)\n",
    "CLM[CLM == -9999.0] = np.nan\n",
    "print(np.shape(CLM))\n",
    "print(np.nanmax(CLM))\n",
    "print(np.nanmin(CLM))"
   ]
  },
  {
   "cell_type": "markdown",
   "id": "e9c5fd53",
   "metadata": {},
   "source": [
    "### Check the min and max values of SWE in a single CLM output file and plot"
   ]
  },
  {
   "cell_type": "code",
   "execution_count": null,
   "id": "19d446e6-ce92-44cd-9a44-4235bedd36a5",
   "metadata": {},
   "outputs": [],
   "source": [
    "#CLM data array format \n",
    "# reading the CLM file PFCLM_SC.out.clm_output.<file number>.C.pfb\n",
    "# variables are by layer:\n",
    "# 0 eflx_lh_tot:  total latent heat flux (Wm-2)  \n",
    "# 1 eflx_lwrad_out: total upward LW radiation (Wm-2)  \n",
    "# 2 eflx_sh_tot: total sensible heat flux (Wm-2)  \n",
    "# 3 eflx_soil_grnd: ground heat flux (Wm-2)    \n",
    "# 4 qflx_evap_tot: net veg. evaporation and transpiration and soil evaporation (mms-1)  \n",
    "# 5 qflx_evap_grnd: ground evaporation (mms-1)   \n",
    "# 6 qflx_evap_soi: soil evaporation (mms-1)   \n",
    "# 7 qflx_evap_veg: vegetation evaporation (canopy) and transpiration (mms-1)   \n",
    "# 8 qflx_tran_veg: transpiration (mms-1)  \n",
    "# 9 qflx_infl: infiltration flux (mms-1)   \n",
    "# 10 swe_out: SWE (mm)   \n",
    "# 11 t_grnd: ground temperature (K)  \n",
    "# 12 irrigation flux\n",
    "# 13 - 24 Soil temperature by layer (K)\n",
    "print(np.nanmax(CLM[10,:,:]))\n",
    "print(np.nanmin(CLM[10,:,:]))\n",
    "plt.figure()\n",
    "plt.imshow(CLM[10,:,:], origin='lower', cmap='ocean_r',vmin = 1, vmax = 3000)\n",
    "plt.axis('off')\n",
    "cbar = plt.colorbar(orientation='horizontal',shrink=0.2) \n",
    "plt.savefig('clm.png', dpi=1200,bbox_inches='tight')"
   ]
  },
  {
   "cell_type": "markdown",
   "id": "8acde932",
   "metadata": {},
   "source": [
    "### Check the min and max of a precipitation forcing file and plot a specific timestep"
   ]
  },
  {
   "cell_type": "code",
   "execution_count": null,
   "id": "f4f152cb-05e2-44ff-a9b0-2abee5399c6e",
   "metadata": {},
   "outputs": [],
   "source": [
    "precip_file = f'{forcing_dir}/CW3E.APCP.000001_to_000024.pfb'\n",
    "\n",
    "print(precip_file)\n",
    "APCP = read_pfb(precip_file)\n",
    "APCP[APCP < -1.0e+38] = np.nan\n",
    "print(np.shape(APCP))\n",
    "print(np.nanmax(APCP))\n",
    "print(np.nanmin(APCP))\n",
    "\n",
    "\n",
    "time = 0\n",
    "plt.figure()\n",
    "plt.imshow(APCP[time,:,:]*3600, origin='lower', cmap='plasma')\n",
    "plt.axis('off')\n",
    "cbar = plt.colorbar(orientation='horizontal',shrink=0.15) \n",
    "plt.savefig('precip.png', dpi=1200,bbox_inches='tight')\n",
    "print(np.nanmax(APCP[time,:,:]*3600))\n",
    "print(np.nanmin(APCP[time,:,:]*3600))\n",
    "print(np.argmax(APCP[time,:,:]))"
   ]
  },
  {
   "cell_type": "markdown",
   "id": "10bd72c0",
   "metadata": {},
   "source": [
    "### Check min and max of slope x values and plot"
   ]
  },
  {
   "cell_type": "code",
   "execution_count": null,
   "id": "f1b69637-311b-487b-8afa-158d38cf323c",
   "metadata": {},
   "outputs": [],
   "source": [
    "slopex_file = f'{pf_output_dir}/{runname}.out.slope_x.pfb'\n",
    "\n",
    "print(slopex_file)\n",
    "Sx = read_pfb(slopex_file)\n",
    "print(np.shape(Sx))\n",
    "print(np.nanmax(Sx))\n",
    "print(np.nanmin(Sx))\n",
    "\n",
    "plt.figure()\n",
    "plt.imshow(Sx[0,:,:], origin='lower', cmap='bwr',vmin = -.5, vmax = 0.5)\n",
    "plt.axis('off')\n",
    "cbar = plt.colorbar(orientation='horizontal',shrink=0.15) \n",
    "plt.savefig('Sx.png', dpi=1200,bbox_inches='tight')\n",
    "print(np.nanmax(Sx[0,:,:]))\n",
    "print(np.nanmin(Sx[0,:,:]))\n",
    "print(np.argmax(Sx[0,:,:]))"
   ]
  },
  {
   "cell_type": "markdown",
   "id": "ba7b5333",
   "metadata": {},
   "source": [
    "### Check min and max of slope y values and plot"
   ]
  },
  {
   "cell_type": "code",
   "execution_count": null,
   "id": "e34dea1e-11cf-4fef-a784-24400c5b33ac",
   "metadata": {},
   "outputs": [],
   "source": [
    "slopey_file = f'{pf_output_dir}/{runname}.out.slope_y.pfb'\n",
    "\n",
    "print(slopey_file)\n",
    "Sy = read_pfb(slopey_file)\n",
    "print(np.shape(Sy))\n",
    "print(np.nanmax(Sy))\n",
    "print(np.nanmin(Sy))\n",
    "\n",
    "plt.figure()\n",
    "plt.imshow(Sy[0,:,:], origin='lower', cmap='bwr',vmin = -.5, vmax = 0.5)\n",
    "plt.axis('off')\n",
    "cbar = plt.colorbar(orientation='horizontal',shrink=0.15) \n",
    "plt.savefig('Sy.png', dpi=1200,bbox_inches='tight')\n",
    "print(np.nanmax(Sy[0,:,:]))\n",
    "print(np.nanmin(Sy[0,:,:]))\n",
    "print(np.argmax(Sy[0,:,:]))"
   ]
  },
  {
   "cell_type": "markdown",
   "id": "990e1d39",
   "metadata": {},
   "source": [
    "### Check slopes at a sink location"
   ]
  },
  {
   "cell_type": "code",
   "execution_count": null,
   "id": "95d5b702-580d-4c38-a83b-3db1e1c41bd0",
   "metadata": {},
   "outputs": [],
   "source": [
    "iloc = 1\n",
    "\n",
    "print(indices_sink[iloc])\n",
    "print(Sx[0,indices_sink[iloc,0],indices_sink[iloc,1]])\n",
    "print(Sy[0,indices_sink[iloc,0],indices_sink[iloc,1]])"
   ]
  },
  {
   "cell_type": "markdown",
   "id": "29a55ffb",
   "metadata": {},
   "source": [
    "### Check pressure at a sink location"
   ]
  },
  {
   "cell_type": "code",
   "execution_count": null,
   "id": "ba295e3a-8ee0-4dd6-917f-88095ce499c5",
   "metadata": {},
   "outputs": [],
   "source": [
    "iloc = 50\n",
    "\n",
    "print(indices_sink[iloc])\n",
    "print(press[9,indices_sink[iloc,0],indices_sink[iloc,1]])"
   ]
  },
  {
   "cell_type": "markdown",
   "id": "8cbcbde8",
   "metadata": {},
   "source": [
    "### Check pressure at a lake location"
   ]
  },
  {
   "cell_type": "code",
   "execution_count": null,
   "id": "3a55eee8",
   "metadata": {},
   "outputs": [],
   "source": [
    "iloc = 12\n",
    "\n",
    "print(indices_lake[iloc])\n",
    "print(press[9,indices_lake[iloc,0],indices_lake[iloc,1]])"
   ]
  },
  {
   "cell_type": "markdown",
   "id": "fc1226ef",
   "metadata": {},
   "source": [
    "### Create a list of pressure values at all of the sinks"
   ]
  },
  {
   "cell_type": "code",
   "execution_count": null,
   "id": "7a5f243c-b323-44a9-9890-f3ad03aa5caf",
   "metadata": {},
   "outputs": [],
   "source": [
    "imax = len(indices_sink)\n",
    "print(imax)\n",
    "sink_press = press[9,indices_sink[0:imax,0],indices_sink[0:imax,1]]"
   ]
  },
  {
   "cell_type": "code",
   "execution_count": null,
   "id": "c28976e8-69be-473d-82d0-1b25a9fa7da8",
   "metadata": {},
   "outputs": [],
   "source": [
    "positive_loc = np.argwhere(sink_press > 0.0)\n",
    "print(sink_press[positive_loc])\n",
    "print(np.max(sink_press[positive_loc]))"
   ]
  },
  {
   "cell_type": "markdown",
   "id": "0fe81a3b",
   "metadata": {},
   "source": [
    "### Create a list of pressure values at all of the lakes"
   ]
  },
  {
   "cell_type": "code",
   "execution_count": null,
   "id": "57baf4c8-c3f9-4f0d-843e-44f0de2fc4bc",
   "metadata": {},
   "outputs": [],
   "source": [
    "imax = len(indices_lake)\n",
    "print(imax)\n",
    "lake_press = press[9,indices_lake[0:imax,0],indices_lake[0:imax,1]]"
   ]
  },
  {
   "cell_type": "code",
   "execution_count": null,
   "id": "2b069df5-a31e-4462-bee2-97e687825708",
   "metadata": {},
   "outputs": [],
   "source": [
    "positive_loc = np.argwhere(lake_press > 0.0)\n",
    "print(lake_press[positive_loc])\n",
    "print(np.max(lake_press[positive_loc]))"
   ]
  },
  {
   "cell_type": "markdown",
   "id": "e572d2f8",
   "metadata": {},
   "source": [
    "### Check min and max mannings values and plot"
   ]
  },
  {
   "cell_type": "code",
   "execution_count": null,
   "id": "15d1e460-6314-4613-af5c-664a4a40ad3a",
   "metadata": {},
   "outputs": [],
   "source": [
    "mannings_file = f'{pf_output_dir}/{runname}.out.mannings.pfb'\n",
    "\n",
    "print(mannings_file)\n",
    "mannings = read_pfb(mannings_file)\n",
    "mannings[mannings == 1.0] = np.nan\n",
    "print(np.shape(mannings))\n",
    "print(np.nanmax(mannings))\n",
    "print(np.nanmin(mannings))\n",
    "\n",
    "plt.figure()\n",
    "plt.imshow(mannings[0,:,:], origin='lower', cmap='plasma') #,vmin = -.5, vmax = 0.5)\n",
    "plt.axis('off')\n",
    "cbar = plt.colorbar(orientation='horizontal',shrink=0.15) \n",
    "plt.savefig('mannings.png', dpi=1200,bbox_inches='tight')\n",
    "print(np.nanmax(mannings[0,:,:]))\n",
    "print(np.nanmin(mannings[0,:,:]))\n",
    "print(np.argmax(mannings[0,:,:]))"
   ]
  },
  {
   "cell_type": "markdown",
   "id": "0a06c87b",
   "metadata": {},
   "source": [
    "### Inspect data within a window of a high-pressure location"
   ]
  },
  {
   "cell_type": "code",
   "execution_count": null,
   "id": "733cf779-84e6-448f-a173-9c2a1ef4df99",
   "metadata": {},
   "outputs": [],
   "source": [
    "iloc = 3\n",
    "print(mannings[0,indices_press[iloc,0],indices_press[iloc,1]])\n",
    "\n",
    "pm = 3\n",
    "col_headers = np.arange(indices_press[iloc,1]-pm, indices_press[iloc,1]+pm)\n",
    "row_headers = np.arange(indices_press[iloc,0]-pm,indices_press[iloc,0]+pm)\n",
    "\n",
    "subset_Sx = Sx[0,indices_press[iloc,0]-pm:indices_press[iloc,0]+pm,indices_press[iloc,1]-pm:indices_press[iloc,1]+pm]\n",
    "subset_Sy = Sy[0,indices_press[iloc,0]-pm:indices_press[iloc,0]+pm,indices_press[iloc,1]-pm:indices_press[iloc,1]+pm]\n",
    "subset_press = press[9,indices_press[iloc,0]-pm:indices_press[iloc,0]+pm,indices_press[iloc,1]-pm:indices_press[iloc,1]+pm]\n",
    "subset_mann = mannings[0,indices_press[iloc,0]-pm:indices_press[iloc,0]+pm,indices_press[iloc,1]-pm:indices_press[iloc,1]+pm]\n",
    "subset_mask = mask[0,indices_press[iloc,0]-pm:indices_press[iloc,0]+pm,indices_press[iloc,1]-pm:indices_press[iloc,1]+pm]\n",
    "subset_top = top[0,indices_press[iloc,0]-pm:indices_press[iloc,0]+pm,indices_press[iloc,1]-pm:indices_press[iloc,1]+pm]\n",
    "\n",
    "print(indices_press[iloc])\n",
    "df_Sx = pd.DataFrame(subset_Sx, index=row_headers, columns=col_headers)\n",
    "print(\"Sx\")\n",
    "print(df_Sx.to_string())\n",
    "df_Sy = pd.DataFrame(subset_Sy, index=row_headers, columns=col_headers)\n",
    "print(\"Sy\")\n",
    "print(df_Sy.to_string())\n",
    "df_mann = pd.DataFrame(subset_mann, index=row_headers, columns=col_headers)\n",
    "print(\"Mannings\")\n",
    "print(df_mann.to_string())\n",
    "df_press = pd.DataFrame(subset_press, index=row_headers, columns=col_headers)\n",
    "print(\"Press\")\n",
    "print(df_press.to_string())\n",
    "print(\"Mask\")\n",
    "df_mask = pd.DataFrame(subset_mask, index=row_headers, columns=col_headers)\n",
    "print(df_mask.to_string())\n",
    "print(\"Top\")\n",
    "df_top = pd.DataFrame(subset_top, index=row_headers, columns=col_headers)\n",
    "print(df_top.to_string())\n",
    "\n",
    "# not plotting origin=lower since the Y axis on the matrices is all backwards\n",
    "plt.figure()\n",
    "plt.imshow(subset_press, cmap='plasma')\n",
    "cbar = plt.colorbar(orientation='horizontal',shrink=0.15) \n",
    "plt.show()"
   ]
  },
  {
   "cell_type": "markdown",
   "id": "b2cdf435",
   "metadata": {},
   "source": [
    "### Check min and max values of input mannings file and plot"
   ]
  },
  {
   "cell_type": "code",
   "execution_count": null,
   "id": "35b9d05c-af04-4733-bd03-ec4d30dbc7ea",
   "metadata": {},
   "outputs": [],
   "source": [
    "input_mannings_file = f'{pf_input_dir}/CONUS2.0.Final1km_mannings_rv50_original_values_Lake_Sink.pfb'\n",
    "\n",
    "print(input_mannings_file)\n",
    "mannings = read_pfb(input_mannings_file)\n",
    "mannings[mannings == 1.0] = np.nan\n",
    "print(np.shape(mannings))\n",
    "print(np.nanmax(mannings))\n",
    "print(np.nanmin(mannings))\n",
    "\n",
    "plt.figure()\n",
    "plt.imshow(mannings[0,:,:], origin='lower', cmap='plasma',vmin = 5.6e-6, vmax = 1.e-4)\n",
    "plt.axis('off')\n",
    "cbar = plt.colorbar(orientation='horizontal',shrink=0.15) \n",
    "plt.savefig('mannings.png', dpi=1200,bbox_inches='tight')\n",
    "print(np.nanmax(mannings[0,:,:]))\n",
    "print(np.nanmin(mannings[0,:,:]))\n",
    "print(np.argmax(mannings[0,:,:]))"
   ]
  },
  {
   "cell_type": "markdown",
   "id": "5e2c7d5b",
   "metadata": {},
   "source": [
    "### Check min and max values of porosity and plot"
   ]
  },
  {
   "cell_type": "code",
   "execution_count": null,
   "id": "4e9af06b-b9d9-4c24-9366-7ce0911b501d",
   "metadata": {},
   "outputs": [],
   "source": [
    "porosity_file = f'{pf_output_dir}/{runname}.out.porosity.pfb'\n",
    "\n",
    "print(porosity_file)\n",
    "poro = read_pfb(porosity_file)\n",
    "poro[poro == 1.0] = np.nan\n",
    "print(np.shape(poro))\n",
    "print(np.nanmax(poro))\n",
    "print(np.nanmin(poro))\n",
    "\n",
    "\n",
    "plt.figure()\n",
    "plt.imshow(poro[2,:,:], origin='lower', cmap='plasma')\n",
    "plt.axis('off')\n",
    "cbar = plt.colorbar(orientation='horizontal',shrink=0.15) \n",
    "plt.savefig('poro.png', dpi=1500,bbox_inches='tight')"
   ]
  },
  {
   "cell_type": "markdown",
   "id": "1300a3c7",
   "metadata": {},
   "source": [
    "### Example: Correct mannings values at high-pressure location"
   ]
  },
  {
   "cell_type": "code",
   "execution_count": null,
   "id": "3d82131d-ab4e-4fc8-8af9-1eda909c3e0d",
   "metadata": {},
   "outputs": [],
   "source": [
    "# mannings fix for high pressure off the MISS river\n",
    "# load last mannings file\n",
    "file = \"CONUS2.0.Mannings_906.pfb\"\n",
    "\n",
    "print(file)\n",
    "mannings_old = read_pfb(file)\n",
    "print(np.shape(mannings_old))\n",
    "print(np.nanmax(mannings_old))\n",
    "print(np.nanmin(mannings_old))\n",
    "\n",
    "# confirm that mannings stream value is too high\n",
    "print(\"high point:\",mannings_old[0,775,2734])\n",
    "\n",
    "# check adjacent value\n",
    "print(\"stream value:\",mannings_old[0,774,2734])\n",
    "\n",
    "# set high point to correct value\n",
    "mannings_old[0,775,2734] = 8.33e-6\n",
    "\n",
    "# confirm that mannings stream value is fixed\n",
    "print(\"old high point:\",mannings_old[0,775,2734])\n",
    "\n",
    "# save as PFB with correct distribution \n",
    "write_pfb(\"CONUS2.0.Mannings_906v1.pfb\", mannings_old, p=70, q=48, r=1, x=0.0, y=0.0, z=0.0, dx=1000.0, dy=1000.0, dz=1.0, dist=True)"
   ]
  },
  {
   "cell_type": "markdown",
   "id": "e38cff0c",
   "metadata": {},
   "source": [
    "### Example: Correct slope values at high-pressure location"
   ]
  },
  {
   "cell_type": "code",
   "execution_count": null,
   "id": "0e325bf0-98ff-4fef-b1f4-016b01b4234d",
   "metadata": {},
   "outputs": [],
   "source": [
    "# fix slopes for second high point\n",
    "# change the Y slope of [1464 3977] from zero to 0.0001\n",
    "file = 'model_inputs/CONUS2.0.Final1km.slopey.pfb'\n",
    "print(file)\n",
    "Sy_old = read_pfb(file)\n",
    "print(np.shape(Sy_old))\n",
    "print(np.nanmax(Sy_old))\n",
    "print(np.nanmin(Sy_old))\n",
    "\n",
    "# confirm that slopey stream value is too high\n",
    "print(\"zero value at coast:\",Sy_old[0,1464,3977])\n",
    "\n",
    "# set zero point to correct value\n",
    "Sy_old[0,1464,3977] = 0.0001\n",
    "\n",
    "# confirm that slopey stream value is fixed\n",
    "print(\"old zero point, now fixed:\",Sy_old[0,1464,3977])\n",
    "\n",
    "# save as PFB with correct distribution \n",
    "write_pfb(\"CONUS2.0.Final1km.slopeyv1.pfb\", Sy_old, p=70, q=48, r=1, x=0.0, y=0.0, z=0.0, dx=1000.0, dy=1000.0, dz=1.0, dist=True)"
   ]
  }
 ],
 "metadata": {
  "kernelspec": {
   "display_name": "Python 3 (ipykernel)",
   "language": "python",
   "name": "python3"
  },
  "language_info": {
   "codemirror_mode": {
    "name": "ipython",
    "version": 3
   },
   "file_extension": ".py",
   "mimetype": "text/x-python",
   "name": "python",
   "nbconvert_exporter": "python",
   "pygments_lexer": "ipython3",
   "version": "3.12.4"
  }
 },
 "nbformat": 4,
 "nbformat_minor": 5
}

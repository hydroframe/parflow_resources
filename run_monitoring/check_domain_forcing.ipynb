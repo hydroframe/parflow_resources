{
 "cells": [
  {
   "cell_type": "code",
   "execution_count": null,
   "id": "845ffca1-29b3-4246-83e7-e705f0bef903",
   "metadata": {},
   "outputs": [],
   "source": [
    "import parflow as pf\n",
    "import pandas as pd\n",
    "import numpy as np\n",
    "from matplotlib import pyplot as plt"
   ]
  },
  {
   "cell_type": "code",
   "execution_count": null,
   "id": "ed7fd05d-bbe7-423a-a764-7d2a726b7f6e",
   "metadata": {},
   "outputs": [],
   "source": [
    "#read in the mask for the domain\n",
    "pf_output_dir = 'path/to/parflow/run/outputs'\n",
    "runname = '<parflow_runname>'\n",
    "file = f'{pf_output_dir}/{runname}.out.mask.pfb'\n",
    "\n",
    "print(file)\n",
    "mask = pf.read_pfb(file)\n",
    "mask[mask ==0] = False\n",
    "mask[mask ==99999] = True\n",
    "print(np.shape(mask))\n",
    "print(np.nanmax(mask))\n",
    "print(np.nanmin(mask))\n",
    "\n",
    "#plot mask to check\n",
    "plt.figure()\n",
    "plt.imshow(mask[0,:,:], origin='lower', cmap='plasma',interpolation = \"none\")\n",
    "plt.axis('off')\n",
    "plt.savefig('mask.png', dpi=500,bbox_inches='tight')"
   ]
  },
  {
   "cell_type": "code",
   "execution_count": null,
   "id": "97e0556c-cc56-428d-8a23-f266de500632",
   "metadata": {},
   "outputs": [],
   "source": [
    "# scan and check ParFlow-CLM forcing files\n",
    "# use the mask to filter values and check for NaNs in the masked area\n",
    "# print out file name and timestep with missing values\n",
    "vars = ['APCP', 'DLWR', 'DSWR', 'Temp', 'SPFH', 'UGRD', 'VGRD', 'Press']\n",
    "forcing_dir = 'path/to/forcing/inputs/for/run'\n",
    "dt = 24\n",
    "\n",
    "#step through the files and check the time range over a year and for each variable in the list above\n",
    "\n",
    "# set start / finish range, note that these need to be forcing file incriments, i.e. match the X_to_Y\n",
    "# in the file name\n",
    "begin_step = 1\n",
    "end_step = 3048\n",
    "\n",
    "# loop over variables, then timesteps\n",
    "for var in vars:\n",
    "    print(var)\n",
    "    for i in range(begin_step,end_step,dt):\n",
    "        file_name = 'CW3E.'+var+\".\"+f\"{i:06d}\"+'_to_'+f\"{(i+dt-1):06d}\"+'.pfb'\n",
    "        file_path = f'{forcing_dir}/{file_name}'\n",
    "        check = pf.read_pfb(file_path)\n",
    "        check[check < -1.0e+38] = np.nan\n",
    "        for ii in range(24):\n",
    "            nan_in_forcing = np.isnan(check[ii][mask[0]==True]).any()\n",
    "            if nan_in_forcing:\n",
    "                print(\"NaNs found file:\",file_name,\" time:\",i+ii,\" step:\", ii)"
   ]
  },
  {
   "cell_type": "code",
   "execution_count": null,
   "id": "ef5992ee-095b-40a6-9148-178926f0e595",
   "metadata": {},
   "outputs": [],
   "source": []
  }
 ],
 "metadata": {
  "kernelspec": {
   "display_name": "Python 3 (ipykernel)",
   "language": "python",
   "name": "python3"
  },
  "language_info": {
   "codemirror_mode": {
    "name": "ipython",
    "version": 3
   },
   "file_extension": ".py",
   "mimetype": "text/x-python",
   "name": "python",
   "nbconvert_exporter": "python",
   "pygments_lexer": "ipython3",
   "version": "3.12.4"
  }
 },
 "nbformat": 4,
 "nbformat_minor": 5
}

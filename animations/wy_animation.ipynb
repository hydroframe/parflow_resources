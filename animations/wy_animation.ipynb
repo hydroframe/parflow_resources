{
 "cells": [
  {
   "cell_type": "code",
   "execution_count": 4,
   "id": "207cfba4",
   "metadata": {},
   "outputs": [],
   "source": [
    "import os\n",
    "import numpy as np\n",
    "from parflow.tools.io import read_pfb\n",
    "import cv2\n",
    "import matplotlib.pyplot as plt\n",
    "from matplotlib import colors\n",
    "from matplotlib.patches import Rectangle"
   ]
  },
  {
   "cell_type": "code",
   "execution_count": 12,
   "id": "b76cd25a",
   "metadata": {},
   "outputs": [],
   "source": [
    "input_dir = '<path/to/daily/parflow/output/files>'\n",
    "image_dir = 'path/to/save/daily/static/images'\n",
    "\n",
    "water_year = 2024\n",
    "days_in_wy = 365 #note this is one less than real number of days due to 6-hour offset when processing CONUS2\n",
    "\n",
    "# Define variable list using ParFlow/CLM variable names\n",
    "var_list = ['WTD', 'SM', 'flow', 'swe_out', 'eflx_lh_tot']"
   ]
  },
  {
   "cell_type": "markdown",
   "id": "4ba4b65f",
   "metadata": {},
   "source": [
    "### Step 1: Create static images from daily files"
   ]
  },
  {
   "cell_type": "code",
   "execution_count": 13,
   "id": "2a8cb77b",
   "metadata": {},
   "outputs": [
    {
     "name": "stdout",
     "output_type": "stream",
     "text": [
      "Creating static plots for flow\n",
      "Creating static plots for swe_out\n",
      "Creating static plots for eflx_lh_tot\n"
     ]
    }
   ],
   "source": [
    "for var in var_list:\n",
    "    print(f'Creating static plots for {var}')\n",
    "\n",
    "    for i in range(1, days_in_wy+1):\n",
    "\n",
    "        file = f'{input_dir}/{var}.{water_year}.daily.{i:0{3}}.pfb'\n",
    "        outfile = (f'{image_dir}/{var}/{var}.{water_year}.daily.{i:0{3}}.png')\n",
    "\n",
    "        pf_data = read_pfb(file).squeeze()\n",
    "\n",
    "        plt.figure()\n",
    "\n",
    "        # Variable-specfiic adjustments and plotting features\n",
    "        if var == 'WTD':\n",
    "            pf_data[pf_data < 0.01] = 0.01\n",
    "            pf_data[pf_data == 292.00000000000006] = np.nan\n",
    "            plt.imshow(pf_data, origin='lower', cmap='RdYlBu_r',norm=colors.LogNorm(vmin = 0.01, vmax = 300))\n",
    "            bounds = [0.1, 1, 10, 100]\n",
    "\n",
    "        elif var == 'swe_out':\n",
    "            pf_data[pf_data == -9999.0] = np.nan\n",
    "            plt.imshow(pf_data, origin='lower', cmap='Blues',vmin = 0.0, vmax = 1700)\n",
    "            bounds = [0, 750, 1500]\n",
    "    \n",
    "        elif var == 'SM':\n",
    "            pf_data[pf_data == 0.0] = np.nan\n",
    "            plt.imshow(pf_data[9, :, :], origin='lower', cmap='plasma_r',vmin = 0.01, vmax = 0.5)\n",
    "            bounds = [0.1, 0.3, 0.5]\n",
    "\n",
    "        elif var == 'flow':\n",
    "            pf_data = pf_data/3600\n",
    "            pf_data[pf_data == 0.0] = np.nan\n",
    "            plt.imshow(pf_data, origin='lower', cmap='plasma_r',norm=colors.LogNorm(vmin = 0.01, vmax = 100000.))\n",
    "            bounds = [0.1, 100, 20000]\n",
    "    \n",
    "        elif var == 'eflx_lh_tot':\n",
    "            pf_data[pf_data == -9999.0] = np.nan\n",
    "            plt.imshow(pf_data, origin='lower', cmap='plasma',vmin = 0.0, vmax = 450)\n",
    "            bounds = [0, 200, 400]\n",
    "\n",
    "\n",
    "        plt.axis('off')\n",
    "        cbar = plt.colorbar(orientation='horizontal', shrink=0.15, ticks = bounds,anchor=(0.65,2.8)) \n",
    "        cbar.ax.tick_params(labelsize=6,labelfontfamily='sans-serif')\n",
    "    \n",
    "        if var == 'WTD':\n",
    "            cbar.ax.set_xticklabels(['0.1', '1.0', '10', '100'])\n",
    "            cbar.set_label('WT depth (m)', fontsize=8, fontfamily=\"sans-serif\")\n",
    "        elif var == 'swe_out':\n",
    "            cbar.ax.set_xticklabels(['0', '750', '>1500'])\n",
    "            cbar.set_label('SWE (mm)', fontsize=8, fontfamily=\"sans-serif\")\n",
    "        elif var == 'SM':\n",
    "            cbar.ax.set_xticklabels(['0.1', '0.3', '0.5'])\n",
    "            cbar.set_label('Soil Moisture (-)', fontsize=8, fontfamily=\"sans-serif\")\n",
    "        elif var == 'flow':\n",
    "            cbar.ax.set_xticklabels(['0.1', '100', '20,000'])\n",
    "            cbar.set_label('Flow (CMS)', fontsize=8, fontfamily=\"sans-serif\")\n",
    "        elif var == 'eflx_lh_tot':\n",
    "            cbar.ax.set_xticklabels(['0', '200', '>400'])\n",
    "            cbar.set_label('LH (W/m2)', fontsize=8, fontfamily=\"sans-serif\")\n",
    "\n",
    "        # create a progress bar as a gray rectangle\n",
    "        plt.text(200, 550, 'Oct Mar Sep',fontsize=10, fontfamily=\"sans-serif\")\n",
    "        width = 1100 * (i/days_in_wy)\n",
    "        plt.gca().add_patch(Rectangle((200, 550),width,150,linewidth=0,edgecolor='none',facecolor='gray',alpha=0.7))\n",
    "        \n",
    "        plt.title(f'Water Year {water_year}')\n",
    "        plt.savefig(outfile, dpi=500,bbox_inches='tight')\n",
    "        plt.clf()\n",
    "        plt.close()"
   ]
  },
  {
   "cell_type": "markdown",
   "id": "67ae6a96",
   "metadata": {},
   "source": [
    "### Step 2: Create .mp4 video from static images"
   ]
  },
  {
   "cell_type": "code",
   "execution_count": null,
   "id": "4d4f046c",
   "metadata": {},
   "outputs": [],
   "source": [
    "for var in var_list:\n",
    "    print(f'Creating video for {var}')\n",
    "    video_name = f'{var}_{water_year}.mp4'\n",
    "\n",
    "    var_image_dir = f'{image_dir}/{var}'\n",
    "    \n",
    "    # Get a list of images from the folder, sorted by name or order\n",
    "    images = [img for img in os.listdir(var_image_dir) if img.endswith('.png')]\n",
    "    images.sort()  # Sort the images if they are numbered or named sequentially\n",
    "\n",
    "    # Read the first image to get the dimensions (width and height)\n",
    "    first_image = cv2.imread(os.path.join(var_image_dir, images[0]))\n",
    "    height, width, _ = first_image.shape\n",
    "\n",
    "    # Codec for .mp4\n",
    "    fourcc = cv2.VideoWriter_fourcc(*'mp4v') \n",
    "\n",
    "    # Frames per second\n",
    "    fps = 25  \n",
    "    out = cv2.VideoWriter(video_name, fourcc, fps, (width, height))\n",
    "\n",
    "    # Loop through all images and add them to the video\n",
    "    for image in images:\n",
    "        img = cv2.imread(os.path.join(var_image_dir, image))\n",
    "\n",
    "        # Write the image to the video\n",
    "        out.write(img) \n",
    "\n",
    "    # Release the video writer\n",
    "    out.release()\n",
    "\n",
    "    print(f\"Video saved as {video_name}\")"
   ]
  }
 ],
 "metadata": {
  "kernelspec": {
   "display_name": "Python 3 (ipykernel)",
   "language": "python",
   "name": "python3"
  },
  "language_info": {
   "codemirror_mode": {
    "name": "ipython",
    "version": 3
   },
   "file_extension": ".py",
   "mimetype": "text/x-python",
   "name": "python",
   "nbconvert_exporter": "python",
   "pygments_lexer": "ipython3",
   "version": "3.11.4"
  }
 },
 "nbformat": 4,
 "nbformat_minor": 5
}
